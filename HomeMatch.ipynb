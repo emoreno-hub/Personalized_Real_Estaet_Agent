{
 "cells": [
  {
   "cell_type": "markdown",
   "id": "8c6f84a1",
   "metadata": {},
   "source": [
    "# Personalized Real Estate Agent\n",
    "The goal of this project is to create a personalized experience for each buyer, making the property search process more engaging and tailored to individual preferences.  The application we are developing is called **HomeMatch** and has the following core components:\n",
    "- Understanding buyer preferences\n",
    "- Integrating with a vector database\n",
    "- Personalized listing descriptino generation\n",
    "- Listing presentation\n",
    "\n",
    "## 1. Configuration\n",
    "Uncomment the code below to install libraries."
   ]
  },
  {
   "cell_type": "code",
   "execution_count": null,
   "id": "4c683ece",
   "metadata": {},
   "outputs": [],
   "source": [
    "# !pip show pandas"
   ]
  },
  {
   "cell_type": "code",
   "execution_count": null,
   "id": "57f0c736",
   "metadata": {},
   "outputs": [],
   "source": [
    "# !pip install pandas --upgrade"
   ]
  },
  {
   "cell_type": "code",
   "execution_count": null,
   "id": "682cf60e",
   "metadata": {},
   "outputs": [],
   "source": [
    "# !pip install -r requirements.txt"
   ]
  },
  {
   "cell_type": "code",
   "execution_count": 57,
   "id": "ce5b0d93",
   "metadata": {},
   "outputs": [],
   "source": [
    "import os\n",
    "# import PIL\n",
    "# import torch\n",
    "from langchain.chat_models import ChatOpenAI\n",
    "from langchain.prompts import PromptTemplate\n",
    "from langchain.output_parsers import PydanticOutputParser\n",
    "from pydantic import BaseModel, Field, NonNegativeInt\n",
    "from typing import List\n",
    "from langchain.vectorstores import Chroma # vector database\n",
    "from langchain.embeddings.openai import OpenAIEmbeddings\n",
    "from langchain.text_splitter import CharacterTextSplitter\n",
    "from langchain.schema import Document\n",
    "from langchain.prompts import ChatPromptTemplate\n",
    "from langchain.schema import HumanMessage\n",
    "\n",
    "import pandas as pd\n",
    "from fastapi.encoders import jsonable_encoder"
   ]
  },
  {
   "cell_type": "markdown",
   "id": "cd0243c4",
   "metadata": {},
   "source": [
    "Set the environment variables and initialize the model."
   ]
  },
  {
   "cell_type": "code",
   "execution_count": 32,
   "id": "d7498ab0",
   "metadata": {},
   "outputs": [],
   "source": [
    "os.environ[\"OPENAI_API_KEY\"] = \"YOUR_API_KEY\"\n",
    "os.environ[\"OPENAI_API_BASE\"] = \"https://openai.vocareum.com/v1\"\n",
    "\n",
    "# load the model\n",
    "model_name = \"gpt-3.5-turbo\"\n",
    "temperature = 0.0\n",
    "llm = ChatOpenAI(model_name=model_name, temperature=temperature)"
   ]
  },
  {
   "cell_type": "markdown",
   "id": "6322e6a1",
   "metadata": {},
   "source": [
    "## 2. Generate Synthetic Data for Real Estate Listings\n",
    "### 2.1 Setup instructions and template for listings"
   ]
  },
  {
   "cell_type": "code",
   "execution_count": 34,
   "id": "41a2ceb0",
   "metadata": {},
   "outputs": [],
   "source": [
    "instruction = \"Generate a CSV file with at least 10 real estate listings.\"\n",
    "listing_template = \\\n",
    "\"\"\"\n",
    "Neighborhood: Green Oaks\n",
    "Price: $800,000\n",
    "Bedrooms: 3\n",
    "Bathrooms: 2\n",
    "House Size: 2,000 sqft\n",
    "\n",
    "Description: Welcome to this eco-friendly oasis nestled in the heart of Green Oaks. This charming 3-bedroom, 2-bathroom home boasts energy-efficient features such as solar panels and a well-insulated structure. Natural light floods the living spaces, highlighting the beautiful hardwood floors and eco-conscious finishes. The open-concept kitchen and dining area lead to a spacious backyard with a vegetable garden, perfect for the eco-conscious family. Embrace sustainable living without compromising on style in this Green Oaks gem.\n",
    "\n",
    "Neighborhood Description: Green Oaks is a close-knit, environmentally-conscious community with access to organic grocery stores, community gardens, and bike paths. Take a stroll through the nearby Green Oaks Park or grab a cup of coffee at the cozy Green Bean Cafe. With easy access to public transportation and bike lanes, commuting is a breeze.\n",
    "\"\"\""
   ]
  },
  {
   "cell_type": "markdown",
   "id": "bfe54786",
   "metadata": {},
   "source": [
    "### 2.2 Create Class objects\n",
    "Define the structure of the data for the real estate listings."
   ]
  },
  {
   "cell_type": "code",
   "execution_count": 35,
   "id": "e5423e89",
   "metadata": {},
   "outputs": [],
   "source": [
    "class RealEstateListing(BaseModel):\n",
    "    \"\"\"\n",
    "    A real estate listing.\n",
    "    \n",
    "    Attributes:\n",
    "    - neighborhood: str\n",
    "    - price: NonNegativeInt\n",
    "    - bedrooms: NonNegativeInt\n",
    "    - bathrooms: NonNegativeInt\n",
    "    - house_size: NonNegativeInt\n",
    "    - description: str\n",
    "    - neighborhood_description: str\n",
    "    \"\"\"\n",
    "    \n",
    "    neighborhood: str = Field(description=\"The neighborhood where the property is located\")\n",
    "    price: NonNegativeInt = Field(description=\"The price of the property in USD\")\n",
    "    bedrooms: NonNegativeInt = Field(description=\"The number of bedrooms in the property\")\n",
    "    bathrooms: NonNegativeInt = Field(description=\"The number of bathrooms in the property\")\n",
    "    house_size: NonNegativeInt = Field(description=\"The size of the house in square feet\")\n",
    "    description: str = Field(description=\"A description of the property\")\n",
    "    neighborhood_description: str = Field(description=\"A description of the neighborhood.\")  \n",
    "\n",
    "class ListingCollection(BaseModel):\n",
    "    \"\"\"\n",
    "    A collection of real estate listings.\n",
    "    \n",
    "    Attributes:\n",
    "    - listings: List[RealEstateListing]\n",
    "    \"\"\"\n",
    "    \n",
    "    listings: List[RealEstateListing] = Field(description = \"A list of real estate listings\")"
   ]
  },
  {
   "cell_type": "code",
   "execution_count": 36,
   "id": "6e733c52",
   "metadata": {},
   "outputs": [],
   "source": [
    "parser = PydanticOutputParser(pydantic_object = ListingCollection)\n",
    "# print(parser.get_format_instructions())"
   ]
  },
  {
   "cell_type": "markdown",
   "id": "d55a9fea",
   "metadata": {},
   "source": [
    "### 2.3 Setup the Prompt Template"
   ]
  },
  {
   "cell_type": "code",
   "execution_count": 37,
   "id": "0533a7a2",
   "metadata": {},
   "outputs": [
    {
     "name": "stdout",
     "output_type": "stream",
     "text": [
      "Generate a CSV file with at least 10 real estate listings.\n",
      "\n",
      "Neighborhood: Green Oaks\n",
      "Price: $800,000\n",
      "Bedrooms: 3\n",
      "Bathrooms: 2\n",
      "House Size: 2,000 sqft\n",
      "\n",
      "Description: Welcome to this eco-friendly oasis nestled in the heart of Green Oaks. This charming 3-bedroom, 2-bathroom home boasts energy-efficient features such as solar panels and a well-insulated structure. Natural light floods the living spaces, highlighting the beautiful hardwood floors and eco-conscious finishes. The open-concept kitchen and dining area lead to a spacious backyard with a vegetable garden, perfect for the eco-conscious family. Embrace sustainable living without compromising on style in this Green Oaks gem.\n",
      "\n",
      "Neighborhood Description: Green Oaks is a close-knit, environmentally-conscious community with access to organic grocery stores, community gardens, and bike paths. Take a stroll through the nearby Green Oaks Park or grab a cup of coffee at the cozy Green Bean Cafe. With easy access to public transportation and bike lanes, commuting is a breeze.\n",
      "\n",
      "The output should be formatted as a JSON instance that conforms to the JSON schema below.\n",
      "\n",
      "As an example, for the schema {\"properties\": {\"foo\": {\"title\": \"Foo\", \"description\": \"a list of strings\", \"type\": \"array\", \"items\": {\"type\": \"string\"}}}, \"required\": [\"foo\"]}\n",
      "the object {\"foo\": [\"bar\", \"baz\"]} is a well-formatted instance of the schema. The object {\"properties\": {\"foo\": [\"bar\", \"baz\"]}} is not well-formatted.\n",
      "\n",
      "Here is the output schema:\n",
      "```\n",
      "{\"description\": \"A collection of real estate listings.\\n\\nAttributes:\\n- listings: List[RealEstateListing]\", \"properties\": {\"listings\": {\"title\": \"Listings\", \"description\": \"A list of real estate listings\", \"type\": \"array\", \"items\": {\"$ref\": \"#/definitions/RealEstateListing\"}}}, \"required\": [\"listings\"], \"definitions\": {\"RealEstateListing\": {\"title\": \"RealEstateListing\", \"description\": \"A real estate listing.\\n\\nAttributes:\\n- neighborhood: str\\n- price: NonNegativeInt\\n- bedrooms: NonNegativeInt\\n- bathrooms: NonNegativeInt\\n- house_size: NonNegativeInt\\n- description: str\\n- neighborhood_description: str\", \"type\": \"object\", \"properties\": {\"neighborhood\": {\"title\": \"Neighborhood\", \"description\": \"The neighborhood where the property is located\", \"type\": \"string\"}, \"price\": {\"title\": \"Price\", \"description\": \"The price of the property in USD\", \"minimum\": 0, \"type\": \"integer\"}, \"bedrooms\": {\"title\": \"Bedrooms\", \"description\": \"The number of bedrooms in the property\", \"minimum\": 0, \"type\": \"integer\"}, \"bathrooms\": {\"title\": \"Bathrooms\", \"description\": \"The number of bathrooms in the property\", \"minimum\": 0, \"type\": \"integer\"}, \"house_size\": {\"title\": \"House Size\", \"description\": \"The size of the house in square feet\", \"minimum\": 0, \"type\": \"integer\"}, \"description\": {\"title\": \"Description\", \"description\": \"A description of the property\", \"type\": \"string\"}, \"neighborhood_description\": {\"title\": \"Neighborhood Description\", \"description\": \"A description of the neighborhood.\", \"type\": \"string\"}}, \"required\": [\"neighborhood\", \"price\", \"bedrooms\", \"bathrooms\", \"house_size\", \"description\", \"neighborhood_description\"]}}}\n",
      "```\n",
      "\n"
     ]
    }
   ],
   "source": [
    "# Define the prompt template\n",
    "prompt = PromptTemplate(\n",
    "    input_variables=[\"instruction\", \"template\"],\n",
    "    partial_variables={\"format_instructions\": parser.get_format_instructions},\n",
    "    template=\"{instruction}\\n{template}\\n{format_instructions}\\n\"\n",
    ")\n",
    "\n",
    "# Format the prompt\n",
    "query = prompt.format(\n",
    "    instruction=instruction,\n",
    "    template=listing_template,\n",
    ")\n",
    "\n",
    "print(query)"
   ]
  },
  {
   "cell_type": "markdown",
   "id": "24ccf80c",
   "metadata": {},
   "source": [
    "### 2.4 Generate the response and parse the results"
   ]
  },
  {
   "cell_type": "code",
   "execution_count": 38,
   "id": "99b9caad",
   "metadata": {},
   "outputs": [],
   "source": [
    "# Generate a response using the LLM\n",
    "response = llm.predict(query)"
   ]
  },
  {
   "cell_type": "code",
   "execution_count": 42,
   "id": "69d0892e",
   "metadata": {},
   "outputs": [],
   "source": [
    "# print(\"Response from LLM:\", response)"
   ]
  },
  {
   "cell_type": "code",
   "execution_count": 41,
   "id": "5d366741",
   "metadata": {},
   "outputs": [],
   "source": [
    "result = parser.parse(response)"
   ]
  },
  {
   "cell_type": "code",
   "execution_count": 43,
   "id": "b716a392",
   "metadata": {},
   "outputs": [
    {
     "data": {
      "text/html": [
       "<div>\n",
       "<style scoped>\n",
       "    .dataframe tbody tr th:only-of-type {\n",
       "        vertical-align: middle;\n",
       "    }\n",
       "\n",
       "    .dataframe tbody tr th {\n",
       "        vertical-align: top;\n",
       "    }\n",
       "\n",
       "    .dataframe thead th {\n",
       "        text-align: right;\n",
       "    }\n",
       "</style>\n",
       "<table border=\"1\" class=\"dataframe\">\n",
       "  <thead>\n",
       "    <tr style=\"text-align: right;\">\n",
       "      <th></th>\n",
       "      <th>neighborhood</th>\n",
       "      <th>price</th>\n",
       "      <th>bedrooms</th>\n",
       "      <th>bathrooms</th>\n",
       "      <th>house_size</th>\n",
       "      <th>description</th>\n",
       "      <th>neighborhood_description</th>\n",
       "    </tr>\n",
       "  </thead>\n",
       "  <tbody>\n",
       "    <tr>\n",
       "      <th>0</th>\n",
       "      <td>Green Oaks</td>\n",
       "      <td>800000</td>\n",
       "      <td>3</td>\n",
       "      <td>2</td>\n",
       "      <td>2000</td>\n",
       "      <td>Welcome to this eco-friendly oasis nestled in ...</td>\n",
       "      <td>Green Oaks is a close-knit, environmentally-co...</td>\n",
       "    </tr>\n",
       "    <tr>\n",
       "      <th>1</th>\n",
       "      <td>Downtown Loft</td>\n",
       "      <td>1200000</td>\n",
       "      <td>2</td>\n",
       "      <td>2</td>\n",
       "      <td>1500</td>\n",
       "      <td>Luxury living in the heart of the city! This m...</td>\n",
       "      <td>Downtown Loft is a vibrant urban neighborhood ...</td>\n",
       "    </tr>\n",
       "    <tr>\n",
       "      <th>2</th>\n",
       "      <td>Suburban Retreat</td>\n",
       "      <td>600000</td>\n",
       "      <td>4</td>\n",
       "      <td>3</td>\n",
       "      <td>2500</td>\n",
       "      <td>Escape to this peaceful suburban retreat surro...</td>\n",
       "      <td>Suburban Retreat is a family-friendly neighbor...</td>\n",
       "    </tr>\n",
       "    <tr>\n",
       "      <th>3</th>\n",
       "      <td>Beachfront Paradise</td>\n",
       "      <td>1500000</td>\n",
       "      <td>5</td>\n",
       "      <td>4</td>\n",
       "      <td>3000</td>\n",
       "      <td>Live the beachfront dream in this stunning 5-b...</td>\n",
       "      <td>Beachfront Paradise is a sought-after coastal ...</td>\n",
       "    </tr>\n",
       "    <tr>\n",
       "      <th>4</th>\n",
       "      <td>Mountain Retreat</td>\n",
       "      <td>900000</td>\n",
       "      <td>3</td>\n",
       "      <td>2</td>\n",
       "      <td>2200</td>\n",
       "      <td>Escape to this serene mountain retreat surroun...</td>\n",
       "      <td>Mountain Retreat is a nature lover's paradise ...</td>\n",
       "    </tr>\n",
       "  </tbody>\n",
       "</table>\n",
       "</div>"
      ],
      "text/plain": [
       "          neighborhood    price  bedrooms  bathrooms  house_size  \\\n",
       "0           Green Oaks   800000         3          2        2000   \n",
       "1        Downtown Loft  1200000         2          2        1500   \n",
       "2     Suburban Retreat   600000         4          3        2500   \n",
       "3  Beachfront Paradise  1500000         5          4        3000   \n",
       "4     Mountain Retreat   900000         3          2        2200   \n",
       "\n",
       "                                         description  \\\n",
       "0  Welcome to this eco-friendly oasis nestled in ...   \n",
       "1  Luxury living in the heart of the city! This m...   \n",
       "2  Escape to this peaceful suburban retreat surro...   \n",
       "3  Live the beachfront dream in this stunning 5-b...   \n",
       "4  Escape to this serene mountain retreat surroun...   \n",
       "\n",
       "                            neighborhood_description  \n",
       "0  Green Oaks is a close-knit, environmentally-co...  \n",
       "1  Downtown Loft is a vibrant urban neighborhood ...  \n",
       "2  Suburban Retreat is a family-friendly neighbor...  \n",
       "3  Beachfront Paradise is a sought-after coastal ...  \n",
       "4  Mountain Retreat is a nature lover's paradise ...  "
      ]
     },
     "execution_count": 43,
     "metadata": {},
     "output_type": "execute_result"
    }
   ],
   "source": [
    "# create a dataframe from the response\n",
    "df = pd.DataFrame(jsonable_encoder(result.listings))\n",
    "df.head()"
   ]
  },
  {
   "cell_type": "code",
   "execution_count": 44,
   "id": "e3d0e15e",
   "metadata": {},
   "outputs": [],
   "source": [
    "df.to_csv('listings.csv', index_label = 'id')"
   ]
  },
  {
   "cell_type": "markdown",
   "id": "986706d9",
   "metadata": {},
   "source": [
    "## 3. Store Listings in a Vector Database"
   ]
  },
  {
   "cell_type": "code",
   "execution_count": 52,
   "id": "43b9056f",
   "metadata": {},
   "outputs": [
    {
     "name": "stdout",
     "output_type": "stream",
     "text": [
      "Saved 10 documents to chroma.\n"
     ]
    }
   ],
   "source": [
    "# Define the path for Chroma\n",
    "CHROMA_PATH = \"chroma\"\n",
    "\n",
    "# Initialize the embeddings\n",
    "embeddings = OpenAIEmbeddings()\n",
    "\n",
    "# Initialize the text splitter\n",
    "splitter = CharacterTextSplitter(chunk_size=300, chunk_overlap=100)  # Adjust chunk_size and chunk_overlap as needed\n",
    "\n",
    "# Create a list of Document objects from the DataFrame\n",
    "documents = []\n",
    "for index, row in df.iterrows():\n",
    "    # Split the description into chunks\n",
    "    chunks = splitter.split_text(row['description'])\n",
    "    for chunk in chunks:\n",
    "        documents.append(Document(page_content=chunk, metadata={'id': str(index)}))\n",
    "\n",
    "# Create the Chroma vector store from the documents\n",
    "db = Chroma.from_documents(\n",
    "    documents,  # Use the split documents\n",
    "    embeddings,  # Reuse the initialized embeddings\n",
    "    persist_directory=CHROMA_PATH  # Ensure CHROMA_PATH is defined\n",
    ")\n",
    "\n",
    "# Persist the vector store\n",
    "db.persist()\n",
    "print(f\"Saved {len(documents)} documents to {CHROMA_PATH}.\")  # Use 'documents' for the count"
   ]
  },
  {
   "cell_type": "markdown",
   "id": "e249aea1",
   "metadata": {},
   "source": [
    "## 4. Building the User Preferance Interface"
   ]
  },
  {
   "cell_type": "code",
   "execution_count": 60,
   "id": "68254db0",
   "metadata": {},
   "outputs": [
    {
     "name": "stdout",
     "output_type": "stream",
     "text": [
      "Please enter your preferences for the property:\n",
      "Number of bedrooms: 3\n",
      "Number of bathrooms: 2\n",
      "Preferred location: irvine, california\n",
      "Price range (e.g., 500000-800000): 700000\n",
      "Minimum house size (in sqft): 1800\n",
      "Collected Buyer Preferences: {'bedrooms': '3', 'bathrooms': '2', 'location': 'irvine, california', 'price_range': '700000', 'house_size': '1800'}\n"
     ]
    }
   ],
   "source": [
    "def collect_buyer_preferences():\n",
    "    print(\"Please enter your preferences for the property:\")\n",
    "    \n",
    "    # Collecting preferences\n",
    "    bedrooms = input(\"Number of bedrooms: \")\n",
    "    bathrooms = input(\"Number of bathrooms: \")\n",
    "    location = input(\"Preferred location: \")\n",
    "    price_range = input(\"Price range (e.g., 500000-800000): \")\n",
    "    house_size = input(\"Minimum house size (in sqft): \")\n",
    "    \n",
    "    # Store preferences in a dictionary\n",
    "    preferences = {\n",
    "        \"bedrooms\": bedrooms,\n",
    "        \"bathrooms\": bathrooms,\n",
    "        \"location\": location,\n",
    "        \"price_range\": price_range,\n",
    "        \"house_size\": house_size\n",
    "    }\n",
    "    \n",
    "    return preferences\n",
    "\n",
    "# Example usage\n",
    "buyer_preferences = collect_buyer_preferences()\n",
    "print(\"Collected Buyer Preferences:\", buyer_preferences)"
   ]
  },
  {
   "cell_type": "markdown",
   "id": "ab5aa698",
   "metadata": {},
   "source": [
    "## 5. Semantic Search Implementation\n",
    "- Semantic Search Implementation: Use the structured buyer preferences to perform a semantic search on the vector database, retrieving listings that most closely match the user's requirements.\n",
    "- Listing Retrieval Logic: Fine-tune the retrieval algorithm to ensure that the most relevant listings are selected based on the semantic closeness to the buyer’s preferences."
   ]
  },
  {
   "cell_type": "code",
   "execution_count": 68,
   "id": "c6ca5483",
   "metadata": {},
   "outputs": [],
   "source": [
    "def construct_query(preferences):\n",
    "    \"\"\"Construct a natural language query from buyer preferences.\"\"\"\n",
    "    return (\n",
    "        f\"Find properties with {preferences['bedrooms']} bedrooms, {preferences['bathrooms']} bathrooms, \"\n",
    "        f\"located in {preferences['location']} within the price range of {preferences['price_range']} \"\n",
    "        f\"and at least {preferences['house_size']} sqft.\"\n",
    "    )\n",
    "\n",
    "def query_vector_database(preferences, db, embeddings, k=3):\n",
    "    \"\"\"\n",
    "    Query the vector database using buyer preferences.\n",
    "\n",
    "    :param preferences: Dictionary containing buyer preferences.\n",
    "    :param db: Vector database instance.\n",
    "    :param embeddings: Embedding model to convert the query into a vector.\n",
    "    :param k: Number of results to retrieve.\n",
    "    :return: List of retrieved documents.\n",
    "    \"\"\"\n",
    "    # Construct the query\n",
    "    query_text = construct_query(preferences)\n",
    "\n",
    "    # Convert query into an embedding vector\n",
    "    query_vector = embeddings.embed_query(query_text)\n",
    "\n",
    "    # Search the database using similarity search\n",
    "    try:\n",
    "        results = db.similarity_search_by_vector(query_vector, k=k)\n",
    "        if not results:\n",
    "            print(\"No matching properties found.\")\n",
    "        return results\n",
    "    except Exception as e:\n",
    "        print(f\"An error occurred while querying the database: {e}\")\n",
    "        return []"
   ]
  },
  {
   "cell_type": "code",
   "execution_count": 69,
   "id": "a4626a31",
   "metadata": {},
   "outputs": [
    {
     "name": "stdout",
     "output_type": "stream",
     "text": [
      "ID: 2\n",
      "Description: Escape to this peaceful suburban retreat surrounded by lush greenery. This spacious 4-bedroom, 3-bathroom home offers a cozy fireplace, a gourmet kitchen, and a private backyard oasis with a pool and spa. The master suite features a luxurious en-suite bathroom and a walk-in closet. Enjoy the tranquility of suburban living while still being close to top-rated schools, parks, and shopping.\n",
      "----------------------------------------\n",
      "ID: 8\n",
      "Description: Discover your own urban oasis in the heart of the city. This stylish 3-bedroom, 2-bathroom loft features high ceilings, exposed brick walls, and a private rooftop deck with city views. The open-concept living area is perfect for entertaining, while the master suite offers a peaceful retreat. Enjoy the convenience of city living with top restaurants, shops, and entertainment just steps away.\n",
      "----------------------------------------\n",
      "ID: 3\n",
      "Description: Live the beachfront dream in this stunning 5-bedroom, 4-bathroom paradise. Wake up to the sound of waves crashing and enjoy panoramic ocean views from every room. The spacious living area opens up to a large deck perfect for entertaining or relaxing with a glass of wine. With direct beach access, you can enjoy swimming, surfing, and sunbathing right in your backyard.\n",
      "----------------------------------------\n"
     ]
    }
   ],
   "source": [
    "# Query the database with collected preferences\n",
    "results = query_vector_database(buyer_preferences, db, embeddings)\n",
    "if results:\n",
    "    for doc in results:\n",
    "        print(f\"ID: {doc.metadata.get('id', 'N/A')}\")\n",
    "        print(f\"Description: {doc.page_content}\")\n",
    "        print(\"-\" * 40)  # Separator for clarity\n"
   ]
  },
  {
   "cell_type": "markdown",
   "id": "62bd41f0",
   "metadata": {},
   "source": [
    "## 6. LLM Augmented Response Generation\n",
    "- LLM Augmentation: For each retrieved listing, use the LLM to augment the description, tailoring it to resonate with the buyer’s specific preferences. This involves subtly emphasizing aspects of the property that align with what the buyer is looking for.\n",
    "- Maintaining Factual Integrity: Ensure that the augmentation process enhances the appeal of the listing without altering factual information."
   ]
  },
  {
   "cell_type": "code",
   "execution_count": 76,
   "id": "c34f948d",
   "metadata": {},
   "outputs": [],
   "source": [
    "def augment_listing(description, preferences):\n",
    "    \"\"\"\n",
    "    Augment the property description based on buyer preferences.\n",
    "\n",
    "    :param description: Original property description.\n",
    "    :param preferences: Dictionary containing buyer preferences.\n",
    "    :return: Augmented description.\n",
    "    \"\"\"\n",
    "    prompt = (\n",
    "        f\"Buyer Preferences:\\n\"\n",
    "        f\" - Bedrooms: {preferences['bedrooms']}\\n\"\n",
    "        f\" - Bathrooms: {preferences['bathrooms']}\\n\"\n",
    "        f\" - Location: {preferences['location']}\\n\"\n",
    "        f\" - Price Range: {preferences['price_range']}\\n\"\n",
    "        f\" - Minimum House Size: {preferences['house_size']} sqft\\n\\n\"\n",
    "        f\"Property Description:\\n\"\n",
    "        f\"{description}\\n\\n\"\n",
    "        f\"Task: Rewrite the property description to subtly emphasize features that align with the buyer's preferences. \"\n",
    "        f\"Ensure factual accuracy while making the description more appealing to the buyer.\"\n",
    "    )\n",
    "\n",
    "    try:\n",
    "#         print(f\"DEBUG: Sending prompt to LLM:\\n{prompt[:500]}...\")  # Log truncated prompt\n",
    "        response = llm([HumanMessage(content=prompt)])\n",
    "        augmented_description = response.content\n",
    "#         print(f\"DEBUG: Received augmented description:\\n{augmented_description[:500]}...\")\n",
    "        return augmented_description.strip()\n",
    "    except Exception as e:\n",
    "        print(f\"An error occurred during LLM augmentation: {e}\")\n",
    "        return description  # Return the original description if augmentation fails"
   ]
  },
  {
   "cell_type": "code",
   "execution_count": 79,
   "id": "2cbb62e1",
   "metadata": {},
   "outputs": [
    {
     "name": "stdout",
     "output_type": "stream",
     "text": [
      "ID: 2\n",
      "Augmented Description: Nestled in the desirable city of Irvine, California, this charming 3-bedroom, 2-bathroom home is the perfect sanctuary for those seeking a peaceful retreat. Boasting a spacious layout of over 1800 sqft, this home features a cozy fireplace, a gourmet kitchen, and a private backyard oasis with a pool and spa. The master suite offers a luxurious en-suite bathroom and a walk-in closet, providing the perfect blend of comfort and style. Located in a serene neighborhood close to top-rated schools, parks, and shopping, this home offers the ideal balance of suburban living and convenience. Don't miss out on this opportunity to make this dream home yours for under $700,000.\n",
      "----------------------------------------\n",
      "ID: 8\n",
      "Augmented Description: Welcome to your dream home in Irvine, California! This stunning 3-bedroom, 2-bathroom loft boasts a spacious 1800 sqft layout, perfect for your family. With high ceilings and exposed brick walls, this urban oasis exudes charm and character. The private rooftop deck offers breathtaking city views, ideal for relaxing or hosting gatherings. The open-concept living area is ideal for entertaining, while the master suite provides a tranquil escape. Located in the heart of Irvine, you'll have easy access to top restaurants, shops, and entertainment options. Don't miss out on this incredible opportunity to own a piece of city living at its finest.\n",
      "----------------------------------------\n",
      "ID: 3\n",
      "Augmented Description: Escape to your dream home in Irvine, California with this charming 3-bedroom, 2-bathroom retreat. Nestled in a desirable location, this home offers a spacious living area perfect for entertaining or unwinding after a long day. Enjoy the serene surroundings and ample natural light that fills the 1800 sqft space. With a price tag of $700,000, this property is a rare find that checks all the boxes for your ideal home. Don't miss out on this opportunity to live in luxury in Irvine.\n",
      "----------------------------------------\n"
     ]
    }
   ],
   "source": [
    "# Process each retrieved listing\n",
    "augmented_results = []\n",
    "for doc in results:\n",
    "    original_description = doc.page_content\n",
    "    augmented_description = augment_listing(original_description, buyer_preferences)\n",
    "    augmented_results.append({\n",
    "        \"id\": doc.metadata.get('id', 'N/A'),\n",
    "        \"original_description\": original_description,\n",
    "        \"augmented_description\": augmented_description\n",
    "    })\n",
    "\n",
    "# Output the augmented listings\n",
    "for result in augmented_results:\n",
    "    print(f\"ID: {result['id']}\")\n",
    "#     print(f\"Original Description: {result['original_description']}\")\n",
    "    print(f\"Augmented Description: {result['augmented_description']}\")\n",
    "    print(\"-\" * 40)  # Separator for clarity"
   ]
  },
  {
   "cell_type": "code",
   "execution_count": null,
   "id": "ee417372",
   "metadata": {},
   "outputs": [],
   "source": []
  }
 ],
 "metadata": {
  "kernelspec": {
   "display_name": "Python 3 (ipykernel)",
   "language": "python",
   "name": "python3"
  },
  "language_info": {
   "codemirror_mode": {
    "name": "ipython",
    "version": 3
   },
   "file_extension": ".py",
   "mimetype": "text/x-python",
   "name": "python",
   "nbconvert_exporter": "python",
   "pygments_lexer": "ipython3",
   "version": "3.10.11"
  }
 },
 "nbformat": 4,
 "nbformat_minor": 5
}
